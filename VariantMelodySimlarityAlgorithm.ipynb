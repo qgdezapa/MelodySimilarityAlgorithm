{
 "cells": [
  {
   "cell_type": "code",
   "execution_count": 2,
   "metadata": {
    "collapsed": true
   },
   "outputs": [],
   "source": [
    "import numpy as np"
   ]
  },
  {
   "cell_type": "code",
   "execution_count": 3,
   "outputs": [],
   "source": [
    "melody_a = [58, 103, 118, 68, 59, 118, 108, 94, 68, 93, 103, 83, 103, 108, 49, 83, 83, 93, 103, 58, 73, 83, 68,\n",
    "            49, 83, 108, 84, 84, 49, 108, 47, 68, 84, 84, 103, 48, 58, 67, 67, 68, 57, 68, 73, 83, 59, 83, 73, 83,\n",
    "            48, 49]\n",
    "\n",
    "melody_b = [38, 103, 118, 68, 29, 118, 108, 94, 68, 93, 103, 83, 103, 108, 49, 83, 83, 93, 103, 58, 73, 83, 68,\n",
    "            49, 83, 108, 84, 84, 49, 108, 47, 68, 84, 84, 103, 48, 58, 67, 67, 68, 57, 68, 73, 83, 59, 83, 73, 83,\n",
    "            48, 49]"
   ],
   "metadata": {
    "collapsed": false,
    "pycharm": {
     "name": "#%%\n"
    }
   }
  },
  {
   "cell_type": "markdown",
   "source": [],
   "metadata": {
    "collapsed": false,
    "pycharm": {
     "name": "#%% md\n"
    }
   }
  },
  {
   "cell_type": "code",
   "execution_count": null,
   "outputs": [],
   "source": [
    "def pitch_note_split(melody):\n",
    "    melody = np.array(melody)\n",
    "    durations = melody % 5\n",
    "\n",
    "    melody = (melody - durations) / 5\n",
    "    durations = 4 / 2 ** durations\n",
    "    return melody, durations\n",
    "\n",
    "\n",
    "melody_a, durations_a = pitch_note_split(melody_a)\n",
    "melody_b, durations_b = pitch_note_split(melody_b)"
   ],
   "metadata": {
    "collapsed": false,
    "pycharm": {
     "name": "#%%\n"
    }
   }
  },
  {
   "cell_type": "code",
   "execution_count": 5,
   "outputs": [],
   "source": [
    "def transform_relative_pitch(melody):\n",
    "    # using the formula x = p - avg(p)\n",
    "\n",
    "    average_pitch = np.average(melody)\n",
    "    melody = melody - average_pitch\n",
    "    return melody\n",
    "\n",
    "\n",
    "relative_melody_a = transform_relative_pitch(melody_a)\n",
    "relative_melody_b = transform_relative_pitch(melody_b)"
   ],
   "metadata": {
    "collapsed": false,
    "pycharm": {
     "name": "#%%\n"
    }
   }
  },
  {
   "cell_type": "code",
   "execution_count": 6,
   "outputs": [],
   "source": [
    "def relationship_comparative_line(melody, durations):\n",
    "    # using the formula tan (a) = (x_b - x_a) / length_x_a\n",
    "\n",
    "    relationship = (melody[1:] - melody[:-1]) / durations[:-1]\n",
    "    return relationship\n",
    "\n",
    "\n",
    "inclination_melody_a = relationship_comparative_line(relative_melody_a, durations_a)\n",
    "inclination_melody_b = relationship_comparative_line(relative_melody_b, durations_b)"
   ],
   "metadata": {
    "collapsed": false,
    "pycharm": {
     "name": "#%%\n"
    }
   }
  },
  {
   "cell_type": "code",
   "execution_count": 7,
   "outputs": [
    {
     "data": {
      "text/plain": "18.0"
     },
     "execution_count": 7,
     "metadata": {},
     "output_type": "execute_result"
    }
   ],
   "source": [
    "def pitch_difference_limit(relative_melody_1, relative_melody_2):\n",
    "    \"\"\"\n",
    "    LIMIT_x = Max_x - Min_x\n",
    "    Limit_x : The limit value for the relative pitch difference value\n",
    "    Max_x : The maximum relative pitch value\n",
    "    Min_x : The minimum relative pitch value\n",
    "    Max_x = MAX(Max_x1, Max_x2)\n",
    "    Minx = MIN(Min_x1, Min_x2)\n",
    "    Max_x1, Max_x2 : Maximum relative pitch values of melody 1 and melody 2, respectively\n",
    "    Min_x1, Min_x2 : Minimum relative pitch values of melody 1 and melody 2, respectively\n",
    "    :param relative_melody_1: main relatively pitched comparative unit (preset)\n",
    "    :param relative_melody_2: secondary relatively pitched comparative unit (melody to be checked)\n",
    "    :return: maximum limit of pitch difference\n",
    "    \"\"\"\n",
    "\n",
    "    min_x = min(min(relative_melody_1), min(relative_melody_2))\n",
    "    max_x = max(max(relative_melody_1), max(relative_melody_2))\n",
    "    limit = max_x - min_x\n",
    "    return limit\n",
    "\n",
    "pitch_diff_limit = pitch_difference_limit(relative_melody_a, relative_melody_b)\n",
    "pitch_diff_limit"
   ],
   "metadata": {
    "collapsed": false,
    "pycharm": {
     "name": "#%%\n"
    }
   }
  },
  {
   "cell_type": "code",
   "execution_count": 8,
   "outputs": [],
   "source": [
    "def inclination_difference_limit(inclination_1, inclination_2):\n",
    "    \"\"\"\n",
    "    Limit_tan(α) = Max_tan(α) – Min_tan(α)\n",
    "    Limit_tan(α) : The limit value for the inclination\n",
    "    difference value\n",
    "    Max_tan(α) : The maximum inclination value\n",
    "    Min_tan(α) : The minimum inclination value\n",
    "    Max_tan(α) = MAX(Max_tan(α1), Max_tan(α2))\n",
    "    Min_tan(α) = MIN(Min_tan(a1), Min_tan(a2))\n",
    "    Max_tan(α1), Max_tan(α2) : Maximum inclination values of melody 1 and melody 2, respectively\n",
    "    Min_tan(a1), Min_tan(a2): Minimum inclination values of melody 1 and melody 2, respectively\n",
    "\n",
    "    :param inclination_1: inclination values of melody 1\n",
    "    :param inclination_2: inclination values of melody 2\n",
    "    :return: limit of inclination difference\n",
    "    \"\"\"\n",
    "\n",
    "    min_x = min(min(inclination_1), min(inclination_2))\n",
    "    max_x = max(max(inclination_1), max(inclination_2))\n",
    "    limit = max_x - min_x\n",
    "    return limit\n",
    "\n",
    "inclination_diff_limit = inclination_difference_limit(inclination_melody_a, inclination_melody_b)"
   ],
   "metadata": {
    "collapsed": false,
    "pycharm": {
     "name": "#%%\n"
    }
   }
  },
  {
   "cell_type": "code",
   "execution_count": 9,
   "outputs": [
    {
     "data": {
      "text/plain": "array([0.54053171, 0.89459074, 0.89459074, 0.89459074, 0.43235379,\n       0.89459074, 0.89459074, 0.89459074, 0.89459074, 0.89459074,\n       0.89459074, 0.89459074, 0.89459074, 0.89459074, 0.89459074,\n       0.89459074, 0.89459074, 0.89459074, 0.89459074, 0.89459074,\n       0.89459074, 0.89459074, 0.89459074, 0.89459074, 0.89459074,\n       0.89459074, 0.89459074, 0.89459074, 0.89459074, 0.89459074,\n       0.89459074, 0.89459074, 0.89459074, 0.89459074, 0.89459074,\n       0.89459074, 0.89459074, 0.89459074, 0.89459074, 0.89459074,\n       0.89459074, 0.89459074, 0.89459074, 0.89459074, 0.89459074,\n       0.89459074, 0.89459074, 0.89459074, 0.89459074, 0.89459074])"
     },
     "execution_count": 9,
     "metadata": {},
     "output_type": "execute_result"
    }
   ],
   "source": [
    "def pitch_similarity(x1, x2, pitch_diff_lim):\n",
    "    \"\"\"\n",
    "    Formula: 1 -  | x1 = x2 | / Limit_x\n",
    "\n",
    "    :param x1: relative pitch values of the preset\n",
    "    :param x2: relative pitch values of the melody being compared\n",
    "    :param pitch_diff_lim: maximum limit of pitch difference\n",
    "    :return: pitch similarity score\n",
    "    \"\"\"\n",
    "    return 1 - abs(x1 - x2) ** 0.5 / pitch_diff_lim ** 0.5\n",
    "\n",
    "pitch_similarity_result =  pitch_similarity(relative_melody_a, relative_melody_b, pitch_diff_limit)\n",
    "pitch_similarity_result"
   ],
   "metadata": {
    "collapsed": false,
    "pycharm": {
     "name": "#%%\n"
    }
   }
  },
  {
   "cell_type": "code",
   "execution_count": 10,
   "outputs": [
    {
     "data": {
      "text/plain": "array([0.71715729, 1.        , 1.        , 0.65358984, 0.51010205,\n       1.        , 1.        , 1.        , 1.        , 1.        ,\n       1.        , 1.        , 1.        , 1.        , 1.        ,\n       1.        , 1.        , 1.        , 1.        , 1.        ,\n       1.        , 1.        , 1.        , 1.        , 1.        ,\n       1.        , 1.        , 1.        , 1.        , 1.        ,\n       1.        , 1.        , 1.        , 1.        , 1.        ,\n       1.        , 1.        , 1.        , 1.        , 1.        ,\n       1.        , 1.        , 1.        , 1.        , 1.        ,\n       1.        , 1.        , 1.        , 1.        ])"
     },
     "execution_count": 10,
     "metadata": {},
     "output_type": "execute_result"
    }
   ],
   "source": [
    "def inclination_similarity(inclination_1, inclination_2, inclination_diff_lim):\n",
    "    \"\"\"\n",
    "    Formula: 1 - | tan(a1) - tan(a2) | / Limit_tan(a)\n",
    "    :param inclination_1: inclination values of the preset\n",
    "    :param inclination_2: inclination values of the melody to be compared\n",
    "    :param inclination_diff_lim: maximum limit of inclination difference\n",
    "    :return: inclination similarity score\n",
    "    \"\"\"\n",
    "    return 1 - abs(inclination_1 - inclination_2) ** 0.5 / inclination_diff_lim ** 0.5\n",
    "\n",
    "inclination_similarity_result = inclination_similarity(inclination_melody_a, inclination_melody_b, inclination_diff_limit)\n",
    "inclination_similarity_result"
   ],
   "metadata": {
    "collapsed": false,
    "pycharm": {
     "name": "#%%\n"
    }
   }
  },
  {
   "cell_type": "code",
   "execution_count": 11,
   "outputs": [],
   "source": [
    "\n",
    "def weighted_pitch_similarity(pitch_sim_result, length):\n",
    "    \"\"\"\n",
    "    Calculates the weighted average of pitch similarity scores having the note duration as weights\n",
    "    \"\"\"\n",
    "    return np.sum(pitch_sim_result * length) / np.sum(length)\n",
    "\n",
    "weighted_pitch_similarity_result = weighted_pitch_similarity(pitch_similarity_result, durations_a)"
   ],
   "metadata": {
    "collapsed": false,
    "pycharm": {
     "name": "#%%\n"
    }
   }
  },
  {
   "cell_type": "code",
   "execution_count": 12,
   "outputs": [],
   "source": [
    "def weighted_inclination_similarity(inclination_sim_result, length):\n",
    "    \"\"\"\n",
    "    Calculates the weighted average of pitch similarity scores having the note duration as weights\n",
    "    \"\"\"\n",
    "    return np.sum(inclination_sim_result * length[:-1]) / np.sum(length[:-1])\n",
    "\n",
    "weighted_inclination_similarity_result = weighted_inclination_similarity(inclination_similarity_result, durations_a)"
   ],
   "metadata": {
    "collapsed": false,
    "pycharm": {
     "name": "#%%\n"
    }
   }
  },
  {
   "cell_type": "code",
   "execution_count": 13,
   "outputs": [
    {
     "data": {
      "text/plain": "98.17874614944436"
     },
     "execution_count": 13,
     "metadata": {},
     "output_type": "execute_result"
    }
   ],
   "source": [
    "def overall_similarity(weighted_pitch_sim_result, weighted_inclination_sim_result):\n",
    "    return (weighted_pitch_sim_result + weighted_inclination_sim_result) / 2\n",
    "\n",
    "\n",
    "similarity_percentage = overall_similarity(weighted_inclination_similarity_result, weighted_inclination_similarity_result)\n",
    "similarity_percentage * 100"
   ],
   "metadata": {
    "collapsed": false,
    "pycharm": {
     "name": "#%%\n"
    }
   }
  },
  {
   "cell_type": "code",
   "execution_count": 13,
   "outputs": [],
   "source": [],
   "metadata": {
    "collapsed": false,
    "pycharm": {
     "name": "#%%"
    }
   }
  }
 ],
 "metadata": {
  "kernelspec": {
   "display_name": "Python 3",
   "language": "python",
   "name": "python3"
  },
  "language_info": {
   "codemirror_mode": {
    "name": "ipython",
    "version": 2
   },
   "file_extension": ".py",
   "mimetype": "text/x-python",
   "name": "python",
   "nbconvert_exporter": "python",
   "pygments_lexer": "ipython2",
   "version": "2.7.6"
  }
 },
 "nbformat": 4,
 "nbformat_minor": 0
}